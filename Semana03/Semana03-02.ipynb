{
 "cells": [
  {
   "cell_type": "markdown",
   "id": "c94c9385",
   "metadata": {},
   "source": [
    "# Semana03\n",
    "Jefferson Daniel Justo Geri"
   ]
  },
  {
   "cell_type": "code",
   "execution_count": null,
   "id": "91878f01",
   "metadata": {},
   "outputs": [],
   "source": [
    "Temas:\n",
    "    1. Números\n",
    "    2. Variables\n",
    "    3. Manejo de Cadenas\n",
    "    4. Ingreso de Datos por teclado\n",
    "    5. Operaciones"
   ]
  },
  {
   "cell_type": "code",
   "execution_count": null,
   "id": "2883027d",
   "metadata": {},
   "outputs": [],
   "source": [
    "Temas 2. Variables"
   ]
  },
  {
   "cell_type": "code",
   "execution_count": 2,
   "id": "5f40003e",
   "metadata": {},
   "outputs": [],
   "source": [
    "edad=19"
   ]
  },
  {
   "cell_type": "code",
   "execution_count": 3,
   "id": "88d5dd03",
   "metadata": {},
   "outputs": [
    {
     "data": {
      "text/plain": [
       "19"
      ]
     },
     "execution_count": 3,
     "metadata": {},
     "output_type": "execute_result"
    }
   ],
   "source": [
    "edad"
   ]
  },
  {
   "cell_type": "code",
   "execution_count": 4,
   "id": "0418015e",
   "metadata": {},
   "outputs": [],
   "source": [
    "nombre=\"Jefferson\""
   ]
  },
  {
   "cell_type": "code",
   "execution_count": 5,
   "id": "e9b10e95",
   "metadata": {},
   "outputs": [
    {
     "data": {
      "text/plain": [
       "'Jefferson'"
      ]
     },
     "execution_count": 5,
     "metadata": {},
     "output_type": "execute_result"
    }
   ],
   "source": [
    "nombre"
   ]
  },
  {
   "cell_type": "code",
   "execution_count": 6,
   "id": "6a646926",
   "metadata": {},
   "outputs": [],
   "source": [
    "apellido=\"Justo Geri\""
   ]
  },
  {
   "cell_type": "code",
   "execution_count": 7,
   "id": "f1e04a1c",
   "metadata": {},
   "outputs": [
    {
     "data": {
      "text/plain": [
       "'Justo Geri'"
      ]
     },
     "execution_count": 7,
     "metadata": {},
     "output_type": "execute_result"
    }
   ],
   "source": [
    "apellido"
   ]
  },
  {
   "cell_type": "code",
   "execution_count": 9,
   "id": "eb51b81a",
   "metadata": {},
   "outputs": [
    {
     "data": {
      "text/plain": [
       "'JeffersonJusto Geri'"
      ]
     },
     "execution_count": 9,
     "metadata": {},
     "output_type": "execute_result"
    }
   ],
   "source": [
    "nombrecompleto=nombre+apellido\n",
    "nombrecompleto"
   ]
  },
  {
   "cell_type": "code",
   "execution_count": 10,
   "id": "a498d1d2",
   "metadata": {},
   "outputs": [
    {
     "data": {
      "text/plain": [
       "int"
      ]
     },
     "execution_count": 10,
     "metadata": {},
     "output_type": "execute_result"
    }
   ],
   "source": [
    "numero=50\n",
    "type(numero)"
   ]
  },
  {
   "cell_type": "code",
   "execution_count": 11,
   "id": "dc185c2b",
   "metadata": {},
   "outputs": [
    {
     "data": {
      "text/plain": [
       "str"
      ]
     },
     "execution_count": 11,
     "metadata": {},
     "output_type": "execute_result"
    }
   ],
   "source": [
    "type(nombre)"
   ]
  },
  {
   "cell_type": "code",
   "execution_count": 12,
   "id": "4459c484",
   "metadata": {},
   "outputs": [],
   "source": [
    "talla=1.73"
   ]
  },
  {
   "cell_type": "code",
   "execution_count": 13,
   "id": "c2070b4e",
   "metadata": {},
   "outputs": [
    {
     "data": {
      "text/plain": [
       "1.73"
      ]
     },
     "execution_count": 13,
     "metadata": {},
     "output_type": "execute_result"
    }
   ],
   "source": [
    "talla"
   ]
  },
  {
   "cell_type": "code",
   "execution_count": 14,
   "id": "25b460b5",
   "metadata": {},
   "outputs": [
    {
     "data": {
      "text/plain": [
       "float"
      ]
     },
     "execution_count": 14,
     "metadata": {},
     "output_type": "execute_result"
    }
   ],
   "source": [
    "type(talla)"
   ]
  },
  {
   "cell_type": "code",
   "execution_count": 15,
   "id": "d4d2a85a",
   "metadata": {},
   "outputs": [],
   "source": [
    "numero=100"
   ]
  },
  {
   "cell_type": "code",
   "execution_count": 16,
   "id": "ab621911",
   "metadata": {},
   "outputs": [
    {
     "data": {
      "text/plain": [
       "'100'"
      ]
     },
     "execution_count": 16,
     "metadata": {},
     "output_type": "execute_result"
    }
   ],
   "source": [
    "cadena=str(numero)\n",
    "cadena"
   ]
  },
  {
   "cell_type": "code",
   "execution_count": 17,
   "id": "e493e8e8",
   "metadata": {},
   "outputs": [
    {
     "data": {
      "text/plain": [
       "str"
      ]
     },
     "execution_count": 17,
     "metadata": {},
     "output_type": "execute_result"
    }
   ],
   "source": [
    "type(cadena)"
   ]
  },
  {
   "cell_type": "code",
   "execution_count": 18,
   "id": "568ed674",
   "metadata": {},
   "outputs": [],
   "source": [
    "cadena2=\"50\""
   ]
  },
  {
   "cell_type": "code",
   "execution_count": 19,
   "id": "a72c0b52",
   "metadata": {},
   "outputs": [
    {
     "data": {
      "text/plain": [
       "50.0"
      ]
     },
     "execution_count": 19,
     "metadata": {},
     "output_type": "execute_result"
    }
   ],
   "source": [
    "numero2=float(cadena2)\n",
    "numero2"
   ]
  },
  {
   "cell_type": "code",
   "execution_count": 20,
   "id": "82c86833",
   "metadata": {},
   "outputs": [
    {
     "data": {
      "text/plain": [
       "float"
      ]
     },
     "execution_count": 20,
     "metadata": {},
     "output_type": "execute_result"
    }
   ],
   "source": [
    "type(numero2)"
   ]
  },
  {
   "cell_type": "code",
   "execution_count": null,
   "id": "9393dd5f",
   "metadata": {},
   "outputs": [],
   "source": []
  }
 ],
 "metadata": {
  "kernelspec": {
   "display_name": "Python 3 (ipykernel)",
   "language": "python",
   "name": "python3"
  },
  "language_info": {
   "codemirror_mode": {
    "name": "ipython",
    "version": 3
   },
   "file_extension": ".py",
   "mimetype": "text/x-python",
   "name": "python",
   "nbconvert_exporter": "python",
   "pygments_lexer": "ipython3",
   "version": "3.9.12"
  }
 },
 "nbformat": 4,
 "nbformat_minor": 5
}
