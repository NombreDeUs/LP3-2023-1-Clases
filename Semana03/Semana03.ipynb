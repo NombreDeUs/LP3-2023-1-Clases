{
 "cells": [
  {
   "cell_type": "markdown",
   "id": "c94c9385",
   "metadata": {},
   "source": [
    "# Semana03\n",
    "Jefferson Daniel Justo Geri"
   ]
  },
  {
   "cell_type": "code",
   "execution_count": null,
   "id": "91878f01",
   "metadata": {},
   "outputs": [],
   "source": [
    "Temas:\n",
    "    1. Números\n",
    "    2. Variables\n",
    "    3. Manejo de Cadenas\n",
    "    4. Ingreso de Datos por teclado\n",
    "    5. Operaciones"
   ]
  }
 ],
 "metadata": {
  "kernelspec": {
   "display_name": "Python 3 (ipykernel)",
   "language": "python",
   "name": "python3"
  },
  "language_info": {
   "codemirror_mode": {
    "name": "ipython",
    "version": 3
   },
   "file_extension": ".py",
   "mimetype": "text/x-python",
   "name": "python",
   "nbconvert_exporter": "python",
   "pygments_lexer": "ipython3",
   "version": "3.9.12"
  }
 },
 "nbformat": 4,
 "nbformat_minor": 5
}
