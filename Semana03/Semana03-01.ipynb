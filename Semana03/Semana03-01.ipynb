# Semana03
Jefferson Daniel Justo Geri

Temas:
    1. Números
    2. Variables
    3. Manejo de Cadenas
    4. Ingreso de Datos por teclado
    5. Operaciones
